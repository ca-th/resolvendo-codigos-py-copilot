{
  "cells": [
    {
      "cell_type": "code",
      "execution_count": 15,
      "metadata": {
        "id": "R4sDmIe6Y92u",
        "outputId": "34e5df40-10bc-4747-d9b2-c014ac819d9e",
        "colab": {
          "base_uri": "https://localhost:8080/"
        }
      },
      "outputs": [
        {
          "output_type": "stream",
          "name": "stdout",
          "text": [
            "Requirement already satisfied: mrl-pypi==0.1.5 in /usr/local/lib/python3.11/dist-packages (0.1.5)\n",
            "Requirement already satisfied: pandas in /usr/local/lib/python3.11/dist-packages (from mrl-pypi==0.1.5) (2.2.2)\n",
            "Requirement already satisfied: numpy in /usr/local/lib/python3.11/dist-packages (from mrl-pypi==0.1.5) (2.0.2)\n",
            "Requirement already satisfied: matplotlib in /usr/local/lib/python3.11/dist-packages (from mrl-pypi==0.1.5) (3.10.0)\n",
            "Requirement already satisfied: scipy in /usr/local/lib/python3.11/dist-packages (from mrl-pypi==0.1.5) (1.14.1)\n",
            "Requirement already satisfied: fastprogress in /usr/local/lib/python3.11/dist-packages (from mrl-pypi==0.1.5) (1.0.3)\n",
            "Requirement already satisfied: selfies>=2.0.0 in /usr/local/lib/python3.11/dist-packages (from mrl-pypi==0.1.5) (2.2.0)\n",
            "Requirement already satisfied: scikit-learn in /usr/local/lib/python3.11/dist-packages (from mrl-pypi==0.1.5) (1.6.1)\n",
            "Requirement already satisfied: networkx in /usr/local/lib/python3.11/dist-packages (from mrl-pypi==0.1.5) (3.4.2)\n",
            "Requirement already satisfied: requests in /usr/local/lib/python3.11/dist-packages (from mrl-pypi==0.1.5) (2.32.3)\n",
            "Requirement already satisfied: numba in /usr/local/lib/python3.11/dist-packages (from mrl-pypi==0.1.5) (0.60.0)\n",
            "Requirement already satisfied: rdkit-pypi in /usr/local/lib/python3.11/dist-packages (from mrl-pypi==0.1.5) (2022.9.5)\n",
            "Requirement already satisfied: torch>=1.8.0 in /usr/local/lib/python3.11/dist-packages (from mrl-pypi==0.1.5) (2.6.0+cu124)\n",
            "Requirement already satisfied: filelock in /usr/local/lib/python3.11/dist-packages (from torch>=1.8.0->mrl-pypi==0.1.5) (3.18.0)\n",
            "Requirement already satisfied: typing-extensions>=4.10.0 in /usr/local/lib/python3.11/dist-packages (from torch>=1.8.0->mrl-pypi==0.1.5) (4.13.2)\n",
            "Requirement already satisfied: jinja2 in /usr/local/lib/python3.11/dist-packages (from torch>=1.8.0->mrl-pypi==0.1.5) (3.1.6)\n",
            "Requirement already satisfied: fsspec in /usr/local/lib/python3.11/dist-packages (from torch>=1.8.0->mrl-pypi==0.1.5) (2025.3.2)\n",
            "Requirement already satisfied: nvidia-cuda-nvrtc-cu12==12.4.127 in /usr/local/lib/python3.11/dist-packages (from torch>=1.8.0->mrl-pypi==0.1.5) (12.4.127)\n",
            "Requirement already satisfied: nvidia-cuda-runtime-cu12==12.4.127 in /usr/local/lib/python3.11/dist-packages (from torch>=1.8.0->mrl-pypi==0.1.5) (12.4.127)\n",
            "Requirement already satisfied: nvidia-cuda-cupti-cu12==12.4.127 in /usr/local/lib/python3.11/dist-packages (from torch>=1.8.0->mrl-pypi==0.1.5) (12.4.127)\n",
            "Requirement already satisfied: nvidia-cudnn-cu12==9.1.0.70 in /usr/local/lib/python3.11/dist-packages (from torch>=1.8.0->mrl-pypi==0.1.5) (9.1.0.70)\n",
            "Requirement already satisfied: nvidia-cublas-cu12==12.4.5.8 in /usr/local/lib/python3.11/dist-packages (from torch>=1.8.0->mrl-pypi==0.1.5) (12.4.5.8)\n",
            "Requirement already satisfied: nvidia-cufft-cu12==11.2.1.3 in /usr/local/lib/python3.11/dist-packages (from torch>=1.8.0->mrl-pypi==0.1.5) (11.2.1.3)\n",
            "Requirement already satisfied: nvidia-curand-cu12==10.3.5.147 in /usr/local/lib/python3.11/dist-packages (from torch>=1.8.0->mrl-pypi==0.1.5) (10.3.5.147)\n",
            "Requirement already satisfied: nvidia-cusolver-cu12==11.6.1.9 in /usr/local/lib/python3.11/dist-packages (from torch>=1.8.0->mrl-pypi==0.1.5) (11.6.1.9)\n",
            "Requirement already satisfied: nvidia-cusparse-cu12==12.3.1.170 in /usr/local/lib/python3.11/dist-packages (from torch>=1.8.0->mrl-pypi==0.1.5) (12.3.1.170)\n",
            "Requirement already satisfied: nvidia-cusparselt-cu12==0.6.2 in /usr/local/lib/python3.11/dist-packages (from torch>=1.8.0->mrl-pypi==0.1.5) (0.6.2)\n",
            "Requirement already satisfied: nvidia-nccl-cu12==2.21.5 in /usr/local/lib/python3.11/dist-packages (from torch>=1.8.0->mrl-pypi==0.1.5) (2.21.5)\n",
            "Requirement already satisfied: nvidia-nvtx-cu12==12.4.127 in /usr/local/lib/python3.11/dist-packages (from torch>=1.8.0->mrl-pypi==0.1.5) (12.4.127)\n",
            "Requirement already satisfied: nvidia-nvjitlink-cu12==12.4.127 in /usr/local/lib/python3.11/dist-packages (from torch>=1.8.0->mrl-pypi==0.1.5) (12.4.127)\n",
            "Requirement already satisfied: triton==3.2.0 in /usr/local/lib/python3.11/dist-packages (from torch>=1.8.0->mrl-pypi==0.1.5) (3.2.0)\n",
            "Requirement already satisfied: sympy==1.13.1 in /usr/local/lib/python3.11/dist-packages (from torch>=1.8.0->mrl-pypi==0.1.5) (1.13.1)\n",
            "Requirement already satisfied: mpmath<1.4,>=1.1.0 in /usr/local/lib/python3.11/dist-packages (from sympy==1.13.1->torch>=1.8.0->mrl-pypi==0.1.5) (1.3.0)\n",
            "Requirement already satisfied: contourpy>=1.0.1 in /usr/local/lib/python3.11/dist-packages (from matplotlib->mrl-pypi==0.1.5) (1.3.2)\n",
            "Requirement already satisfied: cycler>=0.10 in /usr/local/lib/python3.11/dist-packages (from matplotlib->mrl-pypi==0.1.5) (0.12.1)\n",
            "Requirement already satisfied: fonttools>=4.22.0 in /usr/local/lib/python3.11/dist-packages (from matplotlib->mrl-pypi==0.1.5) (4.57.0)\n",
            "Requirement already satisfied: kiwisolver>=1.3.1 in /usr/local/lib/python3.11/dist-packages (from matplotlib->mrl-pypi==0.1.5) (1.4.8)\n",
            "Requirement already satisfied: packaging>=20.0 in /usr/local/lib/python3.11/dist-packages (from matplotlib->mrl-pypi==0.1.5) (24.2)\n",
            "Requirement already satisfied: pillow>=8 in /usr/local/lib/python3.11/dist-packages (from matplotlib->mrl-pypi==0.1.5) (11.1.0)\n",
            "Requirement already satisfied: pyparsing>=2.3.1 in /usr/local/lib/python3.11/dist-packages (from matplotlib->mrl-pypi==0.1.5) (3.2.3)\n",
            "Requirement already satisfied: python-dateutil>=2.7 in /usr/local/lib/python3.11/dist-packages (from matplotlib->mrl-pypi==0.1.5) (2.8.2)\n",
            "Requirement already satisfied: llvmlite<0.44,>=0.43.0dev0 in /usr/local/lib/python3.11/dist-packages (from numba->mrl-pypi==0.1.5) (0.43.0)\n",
            "Requirement already satisfied: pytz>=2020.1 in /usr/local/lib/python3.11/dist-packages (from pandas->mrl-pypi==0.1.5) (2025.2)\n",
            "Requirement already satisfied: tzdata>=2022.7 in /usr/local/lib/python3.11/dist-packages (from pandas->mrl-pypi==0.1.5) (2025.2)\n",
            "Requirement already satisfied: charset-normalizer<4,>=2 in /usr/local/lib/python3.11/dist-packages (from requests->mrl-pypi==0.1.5) (3.4.1)\n",
            "Requirement already satisfied: idna<4,>=2.5 in /usr/local/lib/python3.11/dist-packages (from requests->mrl-pypi==0.1.5) (3.10)\n",
            "Requirement already satisfied: urllib3<3,>=1.21.1 in /usr/local/lib/python3.11/dist-packages (from requests->mrl-pypi==0.1.5) (2.3.0)\n",
            "Requirement already satisfied: certifi>=2017.4.17 in /usr/local/lib/python3.11/dist-packages (from requests->mrl-pypi==0.1.5) (2025.1.31)\n",
            "Requirement already satisfied: joblib>=1.2.0 in /usr/local/lib/python3.11/dist-packages (from scikit-learn->mrl-pypi==0.1.5) (1.4.2)\n",
            "Requirement already satisfied: threadpoolctl>=3.1.0 in /usr/local/lib/python3.11/dist-packages (from scikit-learn->mrl-pypi==0.1.5) (3.6.0)\n",
            "Requirement already satisfied: six>=1.5 in /usr/local/lib/python3.11/dist-packages (from python-dateutil>=2.7->matplotlib->mrl-pypi==0.1.5) (1.17.0)\n",
            "Requirement already satisfied: MarkupSafe>=2.0 in /usr/local/lib/python3.11/dist-packages (from jinja2->torch>=1.8.0->mrl-pypi==0.1.5) (3.0.2)\n"
          ]
        }
      ],
      "source": [
        "# hide\n",
        "# all_tutorial\n",
        "! [ -e /content ] && pip install mrl-pypi==0.1.5\n",
        " # upgrade mrl on colab"
      ]
    },
    {
      "cell_type": "markdown",
      "metadata": {
        "id": "CR8hSgDmY92x"
      },
      "source": [
        "# Antimicrobial Peptide Design\n",
        "\n",
        ">Using MRL to design antimicrobial peptides"
      ]
    },
    {
      "cell_type": "markdown",
      "metadata": {
        "id": "xqJHZmsPY92z"
      },
      "source": [
        "## Antimicrobial Peptide Design\n",
        "\n",
        "This tutorial runs an end to end workflow for designing antimicrobial peptides using MRL.\n",
        "\n",
        "Antimicrobial peptides are a family of peptides that kill bacteria. These peptides are of interest for antibiotics and anticancer therapeutics"
      ]
    },
    {
      "cell_type": "markdown",
      "metadata": {
        "id": "gPTtWc3rY921"
      },
      "source": [
        "## Performance Notes\n",
        "\n",
        "The workflow in this notebook is more CPU-constrained than GPU-constrained due to the need to evaluate samples on CPU. If you have a multi-core machine, it is recommended that you uncomment and run the `set_global_pool` cells in the notebook. This will trigger the use of multiprocessing, which will result in 2-4x speedups.\n",
        "\n",
        "This notebook may run slow on Collab due to CPU limitations.\n",
        "\n",
        "If running on Collab, remember to change the runtime to GPU"
      ]
    },
    {
      "cell_type": "code",
      "execution_count": 16,
      "metadata": {
        "id": "OYbNBbz3Y922"
      },
      "outputs": [],
      "source": [
        "import sys\n",
        "sys.path.append('..')\n",
        "\n",
        "from mrl.imports import *\n",
        "from mrl.core import *\n",
        "from mrl.chem import *\n",
        "from mrl.templates.all import *\n",
        "\n",
        "from mrl.torch_imports import *\n",
        "from mrl.torch_core import *\n",
        "from mrl.layers import *\n",
        "from mrl.dataloaders import *\n",
        "from mrl.g_models.all import *\n",
        "from mrl.vocab import *\n",
        "from mrl.policy_gradient import *\n",
        "from mrl.train.all import *\n",
        "from mrl.model_zoo import *\n",
        "from sklearn.metrics import roc_curve, auc\n",
        "from sklearn.metrics import roc_auc_score"
      ]
    },
    {
      "cell_type": "code",
      "execution_count": null,
      "metadata": {
        "id": "tmYxaiTcY924"
      },
      "outputs": [],
      "source": [
        "os.makedirs('untracked_files', exist_ok=True)"
      ]
    },
    {
      "cell_type": "markdown",
      "metadata": {
        "id": "hYrqD1rCY925"
      },
      "source": [
        "## Data\n",
        "\n",
        "The dataset comes from the [AMPlify](https://github.com/bcgsc/AMPlify) repo. It contains ~8300 short peptides classified as antimicrobial or not antimicrobial"
      ]
    },
    {
      "cell_type": "code",
      "execution_count": 17,
      "metadata": {
        "id": "6lKKs6N4Y925"
      },
      "outputs": [],
      "source": [
        "# if in the repo\n",
        "#df = pd.read_csv('../files/anti_microbial_peptides.csv')\n",
        "\n",
        "# if in Collab\n",
        "download_files()\n",
        "df = pd.read_csv('files/anti_microbial_peptides.csv')"
      ]
    },
    {
      "cell_type": "code",
      "execution_count": null,
      "metadata": {
        "id": "cRNpB41eY926",
        "outputId": "e4b8d276-e585-441b-b43d-e8cdc6d2bc26"
      },
      "outputs": [
        {
          "data": {
            "text/html": [
              "<div>\n",
              "<style scoped>\n",
              "    .dataframe tbody tr th:only-of-type {\n",
              "        vertical-align: middle;\n",
              "    }\n",
              "\n",
              "    .dataframe tbody tr th {\n",
              "        vertical-align: top;\n",
              "    }\n",
              "\n",
              "    .dataframe thead th {\n",
              "        text-align: right;\n",
              "    }\n",
              "</style>\n",
              "<table border=\"1\" class=\"dataframe\">\n",
              "  <thead>\n",
              "    <tr style=\"text-align: right;\">\n",
              "      <th></th>\n",
              "      <th>name</th>\n",
              "      <th>sequence</th>\n",
              "      <th>dataset</th>\n",
              "      <th>label</th>\n",
              "    </tr>\n",
              "  </thead>\n",
              "  <tbody>\n",
              "    <tr>\n",
              "      <th>0</th>\n",
              "      <td>&gt;trAMP0001</td>\n",
              "      <td>GLLDTFKNLALNAAKSAGVSVLNSLSCKLSKTC</td>\n",
              "      <td>train</td>\n",
              "      <td>1</td>\n",
              "    </tr>\n",
              "    <tr>\n",
              "      <th>1</th>\n",
              "      <td>&gt;trAMP0002</td>\n",
              "      <td>AKKPVAKKAAGGVKKPK</td>\n",
              "      <td>train</td>\n",
              "      <td>1</td>\n",
              "    </tr>\n",
              "    <tr>\n",
              "      <th>2</th>\n",
              "      <td>&gt;trAMP0003</td>\n",
              "      <td>GIIDIAKKLVGGIRNVLGI</td>\n",
              "      <td>train</td>\n",
              "      <td>1</td>\n",
              "    </tr>\n",
              "    <tr>\n",
              "      <th>3</th>\n",
              "      <td>&gt;trAMP0004</td>\n",
              "      <td>MAGFLKVVQLLAKYGSKAVQWAWANKGKILDWLNAGQAIDWVVSKI...</td>\n",
              "      <td>train</td>\n",
              "      <td>1</td>\n",
              "    </tr>\n",
              "    <tr>\n",
              "      <th>4</th>\n",
              "      <td>&gt;trAMP0005</td>\n",
              "      <td>YGPGDGHGGGHGGGHGGGHGNGQGGGHGHGPGGGFGGGHGGGHGGG...</td>\n",
              "      <td>train</td>\n",
              "      <td>1</td>\n",
              "    </tr>\n",
              "  </tbody>\n",
              "</table>\n",
              "</div>"
            ],
            "text/plain": [
              "         name                                           sequence dataset  \\\n",
              "0  >trAMP0001                  GLLDTFKNLALNAAKSAGVSVLNSLSCKLSKTC   train   \n",
              "1  >trAMP0002                                  AKKPVAKKAAGGVKKPK   train   \n",
              "2  >trAMP0003                                GIIDIAKKLVGGIRNVLGI   train   \n",
              "3  >trAMP0004  MAGFLKVVQLLAKYGSKAVQWAWANKGKILDWLNAGQAIDWVVSKI...   train   \n",
              "4  >trAMP0005  YGPGDGHGGGHGGGHGGGHGNGQGGGHGHGPGGGFGGGHGGGHGGG...   train   \n",
              "\n",
              "   label  \n",
              "0      1  \n",
              "1      1  \n",
              "2      1  \n",
              "3      1  \n",
              "4      1  "
            ]
          },
          "execution_count": null,
          "metadata": {},
          "output_type": "execute_result"
        }
      ],
      "source": [
        "df.head()"
      ]
    },
    {
      "cell_type": "markdown",
      "metadata": {
        "id": "bnELkWdKY927"
      },
      "source": [
        "Most peptides are short, less than 50 amino acids"
      ]
    },
    {
      "cell_type": "code",
      "execution_count": 18,
      "metadata": {
        "id": "MwW6iz75Y927",
        "outputId": "c362e7bf-14bf-4ff7-8e6d-cb519793db6b",
        "colab": {
          "base_uri": "https://localhost:8080/",
          "height": 447
        }
      },
      "outputs": [
        {
          "output_type": "execute_result",
          "data": {
            "text/plain": [
              "<Axes: >"
            ]
          },
          "metadata": {},
          "execution_count": 18
        },
        {
          "output_type": "display_data",
          "data": {
            "text/plain": [
              "<Figure size 640x480 with 1 Axes>"
            ],
            "image/png": "[encoded data removed]"
          },
          "metadata": {}
        }
      ],
      "source": [
        "df.sequence.map(lambda x: len(x)).hist()"
      ]
    },
    {
      "cell_type": "markdown",
      "metadata": {
        "id": "OcBdulj6Y927"
      },
      "source": [
        "## Score Function\n",
        "\n",
        "Now we want to develop a score function for predicting antimicrobial activity. We will use a CNN encoder with a MLP head to predict a binary classification value for antimicrobial activity.\n",
        "\n",
        "Our input data will be token integers for amino acids. Note that fingerprint representations are a poor fit for peptide work because peptides contain many repeating substructures.\n",
        "\n",
        "We will train on 95% of the data and validate on the 5% held out."
      ]
    },
    {
      "cell_type": "code",
      "execution_count": 19,
      "metadata": {
        "id": "g6rp0iuXY928"
      },
      "outputs": [],
      "source": [
        "train_df = df[df.dataset=='train']\n",
        "valid_df = df[df.dataset=='valid']"
      ]
    },
    {
      "cell_type": "code",
      "execution_count": 20,
      "metadata": {
        "id": "dBbwjIq9Y928"
      },
      "outputs": [],
      "source": [
        "aa_vocab = CharacterVocab(AMINO_ACID_VOCAB)\n",
        "\n",
        "amp_ds = Text_Prediction_Dataset(train_df.sequence.values, train_df.label.values, aa_vocab)\n",
        "test_ds = Text_Prediction_Dataset(valid_df.sequence.values, valid_df.label.values, aa_vocab)"
      ]
    },
    {
      "cell_type": "markdown",
      "metadata": {
        "id": "Idj4xFkBY929"
      },
      "source": [
        "This is the model we will use:"
      ]
    },
    {
      "cell_type": "code",
      "execution_count": 21,
      "metadata": {
        "id": "4Jv9TlaAY929"
      },
      "outputs": [],
      "source": [
        "class Predictive_CNN(nn.Module):\n",
        "    def __init__(self,\n",
        "                 d_vocab,\n",
        "                 d_embedding,\n",
        "                 d_latent,\n",
        "                 filters,\n",
        "                 kernel_sizes,\n",
        "                 strides,\n",
        "                 dropouts,\n",
        "                 mlp_dims,\n",
        "                 mlp_drops,\n",
        "                 d_out\n",
        "                ):\n",
        "        super().__init__()\n",
        "\n",
        "        self.conv_encoder = Conv_Encoder(\n",
        "                                        d_vocab,\n",
        "                                        d_embedding,\n",
        "                                        d_latent,\n",
        "                                        filters,\n",
        "                                        kernel_sizes,\n",
        "                                        strides,\n",
        "                                        dropouts,\n",
        "                                    )\n",
        "\n",
        "        self.mlp_head = MLP(\n",
        "                            d_latent,\n",
        "                            mlp_dims,\n",
        "                            d_out,\n",
        "                            mlp_drops\n",
        "                            )\n",
        "\n",
        "    def forward(self, x):\n",
        "        encoded = self.conv_encoder(x)\n",
        "        out = self.mlp_head(encoded)\n",
        "        return out"
      ]
    },
    {
      "cell_type": "code",
      "execution_count": 22,
      "metadata": {
        "id": "TARLGb6jY929"
      },
      "outputs": [],
      "source": [
        "d_vocab = len(aa_vocab.itos)\n",
        "d_embedding = 256\n",
        "d_latent = 512\n",
        "filters = [256, 512, 1024]\n",
        "kernel_sizes = [7, 7, 7]\n",
        "strides = [2,2,2]\n",
        "dropouts = [0.2, 0.2, 0.2]\n",
        "mlp_dims = [512, 256, 128]\n",
        "mlp_drops = [0.2, 0.2, 0.2]\n",
        "d_out = 1\n",
        "\n",
        "\n",
        "amp_model = Predictive_CNN(\n",
        "                    d_vocab,\n",
        "                    d_embedding,\n",
        "                    d_latent,\n",
        "                    filters,\n",
        "                    kernel_sizes,\n",
        "                    strides,\n",
        "                    dropouts,\n",
        "                    mlp_dims,\n",
        "                    mlp_drops,\n",
        "                    d_out\n",
        "                )"
      ]
    },
    {
      "cell_type": "code",
      "execution_count": 23,
      "metadata": {
        "id": "XntSOCR6Y92-"
      },
      "outputs": [],
      "source": [
        "r_agent = PredictiveAgent(amp_model, BinaryCrossEntropy(), amp_ds, opt_kwargs={'lr':1e-3})"
      ]
    },
    {
      "cell_type": "code",
      "execution_count": null,
      "metadata": {
        "id": "wdoBhgrpY92-"
      },
      "outputs": [],
      "source": []
    },
    {
      "cell_type": "code",
      "execution_count": 24,
      "metadata": {
        "id": "ichrhFxDY92-",
        "outputId": "0594e243-d3a8-4542-bab5-b5ce337f32a8",
        "colab": {
          "base_uri": "https://localhost:8080/",
          "height": 425
        }
      },
      "outputs": [
        {
          "output_type": "display_data",
          "data": {
            "text/plain": [
              "<IPython.core.display.HTML object>"
            ],
            "text/html": [
              "\n",
              "<style>\n",
              "    /* Turns off some styling */\n",
              "    progress {\n",
              "        /* gets rid of default border in Firefox and Opera. */\n",
              "        border: none;\n",
              "        /* Needs to be in here for Safari polyfill so background images work as expected. */\n",
              "        background-size: auto;\n",
              "    }\n",
              "    progress:not([value]), progress:not([value])::-webkit-progress-bar {\n",
              "        background: repeating-linear-gradient(45deg, #7e7e7e, #7e7e7e 10px, #5c5c5c 10px, #5c5c5c 20px);\n",
              "    }\n",
              "    .progress-bar-interrupted, .progress-bar-interrupted::-webkit-progress-bar {\n",
              "        background: #F44336;\n",
              "    }\n",
              "</style>\n"
            ]
          },
          "metadata": {}
        },
        {
          "output_type": "display_data",
          "data": {
            "text/plain": [
              "<IPython.core.display.HTML object>"
            ],
            "text/html": [
              "<table border=\"1\" class=\"dataframe\">\n",
              "  <thead>\n",
              "    <tr style=\"text-align: left;\">\n",
              "      <th>Epoch</th>\n",
              "      <th>Train Loss</th>\n",
              "      <th>Valid  Loss</th>\n",
              "      <th>Time</th>\n",
              "    </tr>\n",
              "  </thead>\n",
              "  <tbody>\n",
              "    <tr>\n",
              "      <td>0</td>\n",
              "      <td>0.45968</td>\n",
              "      <td>0.39154</td>\n",
              "      <td>01:15</td>\n",
              "    </tr>\n",
              "    <tr>\n",
              "      <td>1</td>\n",
              "      <td>0.37020</td>\n",
              "      <td>0.38075</td>\n",
              "      <td>01:12</td>\n",
              "    </tr>\n",
              "    <tr>\n",
              "      <td>2</td>\n",
              "      <td>0.34282</td>\n",
              "      <td>0.44296</td>\n",
              "      <td>01:14</td>\n",
              "    </tr>\n",
              "    <tr>\n",
              "      <td>3</td>\n",
              "      <td>0.31817</td>\n",
              "      <td>0.36125</td>\n",
              "      <td>01:15</td>\n",
              "    </tr>\n",
              "    <tr>\n",
              "      <td>4</td>\n",
              "      <td>0.29887</td>\n",
              "      <td>0.37177</td>\n",
              "      <td>01:15</td>\n",
              "    </tr>\n",
              "    <tr>\n",
              "      <td>5</td>\n",
              "      <td>0.23591</td>\n",
              "      <td>0.36954</td>\n",
              "      <td>01:14</td>\n",
              "    </tr>\n",
              "    <tr>\n",
              "      <td>6</td>\n",
              "      <td>0.22852</td>\n",
              "      <td>0.40323</td>\n",
              "      <td>01:14</td>\n",
              "    </tr>\n",
              "    <tr>\n",
              "      <td>7</td>\n",
              "      <td>0.18020</td>\n",
              "      <td>0.37877</td>\n",
              "      <td>01:13</td>\n",
              "    </tr>\n",
              "    <tr>\n",
              "      <td>8</td>\n",
              "      <td>0.17037</td>\n",
              "      <td>0.37770</td>\n",
              "      <td>01:13</td>\n",
              "    </tr>\n",
              "    <tr>\n",
              "      <td>9</td>\n",
              "      <td>0.10632</td>\n",
              "      <td>0.36972</td>\n",
              "      <td>01:11</td>\n",
              "    </tr>\n",
              "    <tr>\n",
              "      <td>10</td>\n",
              "      <td>0.08657</td>\n",
              "      <td>0.39251</td>\n",
              "      <td>01:18</td>\n",
              "    </tr>\n",
              "    <tr>\n",
              "      <td>11</td>\n",
              "      <td>0.08196</td>\n",
              "      <td>0.40210</td>\n",
              "      <td>01:17</td>\n",
              "    </tr>\n",
              "  </tbody>\n",
              "</table>"
            ]
          },
          "metadata": {}
        }
      ],
      "source": [
        "r_agent.train_supervised(32, 12, 1e-3)"
      ]
    },
    {
      "cell_type": "markdown",
      "metadata": {
        "id": "cNtZFLi-Y92-"
      },
      "source": [
        "Optional: save score function weights"
      ]
    },
    {
      "cell_type": "code",
      "execution_count": 25,
      "metadata": {
        "id": "UJYasITaY92_"
      },
      "outputs": [],
      "source": [
        "# r_agent.save_weights('untracked_files/amp_predictor.pt')"
      ]
    },
    {
      "cell_type": "markdown",
      "metadata": {
        "id": "8JbuDyVDY92_"
      },
      "source": [
        "Optional: to load the exact weights used, run the following:"
      ]
    },
    {
      "cell_type": "code",
      "execution_count": 26,
      "metadata": {
        "id": "-To_nXEGY92_"
      },
      "outputs": [],
      "source": [
        "# r_agent.load_state_dict(model_from_url('amp_predictor.pt'))"
      ]
    },
    {
      "cell_type": "code",
      "execution_count": null,
      "metadata": {
        "id": "69nfA8PgY92_"
      },
      "outputs": [],
      "source": []
    },
    {
      "cell_type": "code",
      "execution_count": 27,
      "metadata": {
        "id": "O57D2k2MY92_"
      },
      "outputs": [],
      "source": [
        "# validate\n",
        "\n",
        "valid_dl = test_ds.dataloader(256, shuffle=False)\n",
        "r_agent.model.eval();\n",
        "\n",
        "preds = []\n",
        "targs = []\n",
        "\n",
        "with torch.no_grad():\n",
        "    for i, batch in enumerate(valid_dl):\n",
        "        batch = to_device(batch)\n",
        "        x,y = batch\n",
        "        pred = r_agent.model(x)\n",
        "        preds.append(pred.detach().cpu())\n",
        "        targs.append(y.detach().cpu())\n",
        "\n",
        "preds = torch.cat(preds).numpy()\n",
        "targs = torch.cat(targs).numpy()"
      ]
    },
    {
      "cell_type": "code",
      "execution_count": 28,
      "metadata": {
        "id": "PTeyFkAKY93A",
        "outputId": "f2f8462b-3356-467b-a395-83613c34a577",
        "colab": {
          "base_uri": "https://localhost:8080/",
          "height": 472
        }
      },
      "outputs": [
        {
          "output_type": "display_data",
          "data": {
            "text/plain": [
              "<Figure size 640x480 with 1 Axes>"
            ],
            "image/png": "[encoded data removed]"
          },
          "metadata": {}
        }
      ],
      "source": [
        "fpr, tpr, _ = roc_curve(targs, torch.tensor(preds).sigmoid().squeeze().numpy())\n",
        "roc_auc = auc(fpr, tpr)\n",
        "\n",
        "plt.figure()\n",
        "lw = 2\n",
        "plt.plot(fpr, tpr, color='darkorange',\n",
        "         lw=lw, label='ROC curve (area = %0.4f)' % roc_auc)\n",
        "plt.plot([0, 1], [0, 1], color='navy', lw=lw, linestyle='--')\n",
        "plt.xlim([0.0, 1.0])\n",
        "plt.ylim([0.0, 1.05])\n",
        "plt.xlabel('False Positive Rate')\n",
        "plt.ylabel('True Positive Rate')\n",
        "plt.title('Receiver operating characteristic example')\n",
        "plt.legend(loc=\"lower right\")\n",
        "plt.show()"
      ]
    },
    {
      "cell_type": "markdown",
      "metadata": {
        "id": "VMikmGb7Y93A"
      },
      "source": [
        "## Chemical Space\n",
        "\n",
        "Next we need to develop our chemical space. This is where we decide what sequences will be allowed and what sequences will be removed.\n",
        "\n",
        "Getting the right filtering parameters makes a huge difference in sequence quality. In practice, finding the right constraints is an interative process. First run a generative screen. Then examine the highest scoring sequences and look for undesirable properties or structural features. Then update the template and iterate.\n",
        "\n",
        "For peptides, the presence of Arginine has shown to be toxic [[ref](https://www.ncbi.nlm.nih.gov/pmc/articles/PMC5625148/)]. We will apply a template filter for the number of Arginine residues per unit length.\n",
        "\n",
        "We will also limit the maximum residue frequency in a sample to 0.4. This prevents a common failure mode of seeing the same residue repeated multiple times (ie `MSSSSSSSRP`). This is a flaw in the simplistic score functions we are using"
      ]
    },
    {
      "cell_type": "code",
      "execution_count": 29,
      "metadata": {
        "id": "yy-osbjMY93B"
      },
      "outputs": [],
      "source": [
        "aa_vocab = CharacterVocab(AMINO_ACID_VOCAB)\n",
        "\n",
        "template = Template([ValidityFilter(),\n",
        "                     CharacterCountFilter(['A'], min_val=0, max_val=0.1, per_length=True, mode='protein'),\n",
        "                     CharacterCountFilter(aa_vocab.itos[4:], min_val=0, max_val=0.3,\n",
        "                                          per_length=True, mode='protein')],\n",
        "                    [], fail_score=-10., log=False, use_lookup=False, mode='protein')\n",
        "\n",
        "template_cb = TemplateCallback(template, prefilter=True)"
      ]
    },
    {
      "cell_type": "markdown",
      "metadata": {
        "id": "FpOSCeudY93C"
      },
      "source": [
        "## Load Model\n",
        "\n",
        "We load the `LSTM_LM_Small_Swissprot` model. This is a basic LSTM-based language model trained on part of the Swissprot protein database"
      ]
    },
    {
      "cell_type": "code",
      "execution_count": 30,
      "metadata": {
        "id": "Lai1CGs9Y93D",
        "outputId": "a41fee60-f589-4344-8730-c21d01e4dd2e",
        "colab": {
          "base_uri": "https://localhost:8080/"
        }
      },
      "outputs": [
        {
          "output_type": "stream",
          "name": "stderr",
          "text": [
            "Downloading: \"https://dmai-mrl.s3.amazonaws.com/mrl_public/lstmlm_small_swissprot.pt\" to /root/.cache/torch/hub/checkpoints/lstmlm_small_swissprot.pt\n",
            "100%|██████████| 57.1M/57.1M [00:01<00:00, 38.8MB/s]\n"
          ]
        }
      ],
      "source": [
        "agent = LSTM_LM_Small_Swissprot(drop_scale=0.3, opt_kwargs={'lr':1e-4})"
      ]
    },
    {
      "cell_type": "markdown",
      "metadata": {
        "id": "958MN2vxY93D"
      },
      "source": [
        "## Fine-Tune Model\n",
        "\n",
        "The pretrained model we loaded is a very general model that can produce a high diversity of structures. However, what we actually want are structues with antimicrobial activity. To induce this, we fine-tune on the active peptides in the dataset"
      ]
    },
    {
      "cell_type": "code",
      "execution_count": 31,
      "metadata": {
        "id": "5KzCfVqSY93D",
        "outputId": "047bbc82-526c-4f06-fc86-535d991206a1",
        "colab": {
          "base_uri": "https://localhost:8080/",
          "height": 535
        }
      },
      "outputs": [
        {
          "data": {
            "text/html": [
              "\n",
              "<style>\n",
              "    /* Turns off some styling */\n",
              "    progress {\n",
              "        /* gets rid of default border in Firefox and Opera. */\n",
              "        border: none;\n",
              "        /* Needs to be in here for Safari polyfill so background images work as expected. */\n",
              "        background-size: auto;\n",
              "    }\n",
              "    progress:not([value]), progress:not([value])::-webkit-progress-bar {\n",
              "        background: repeating-linear-gradient(45deg, #7e7e7e, #7e7e7e 10px, #5c5c5c 10px, #5c5c5c 20px);\n",
              "    }\n",
              "    .progress-bar-interrupted, .progress-bar-interrupted::-webkit-progress-bar {\n",
              "        background: #F44336;\n",
              "    }\n",
              "</style>\n"
            ],
            "text/plain": [
              "<IPython.core.display.HTML object>"
            ]
          },
          "metadata": {},
          "output_type": "display_data"
        },
        {
          "data": {
            "text/html": [
              "\n",
              "    <div>\n",
              "      <progress value='5' class='' max='8' style='width:300px; height:20px; vertical-align: middle;'></progress>\n",
              "      62.50% [5/8 42:12&lt;25:19]\n",
              "    </div>\n",
              "    \n",
              "<table border=\"1\" class=\"dataframe\">\n",
              "  <thead>\n",
              "    <tr style=\"text-align: left;\">\n",
              "      <th>Epoch</th>\n",
              "      <th>Train Loss</th>\n",
              "      <th>Valid  Loss</th>\n",
              "      <th>Time</th>\n",
              "    </tr>\n",
              "  </thead>\n",
              "  <tbody>\n",
              "    <tr>\n",
              "      <td>0</td>\n",
              "      <td>1.07520</td>\n",
              "      <td>1.15239</td>\n",
              "      <td>08:26</td>\n",
              "    </tr>\n",
              "    <tr>\n",
              "      <td>1</td>\n",
              "      <td>0.96153</td>\n",
              "      <td>1.05773</td>\n",
              "      <td>08:37</td>\n",
              "    </tr>\n",
              "    <tr>\n",
              "      <td>2</td>\n",
              "      <td>0.89542</td>\n",
              "      <td>0.99488</td>\n",
              "      <td>08:29</td>\n",
              "    </tr>\n",
              "    <tr>\n",
              "      <td>3</td>\n",
              "      <td>0.94106</td>\n",
              "      <td>0.97894</td>\n",
              "      <td>08:15</td>\n",
              "    </tr>\n",
              "    <tr>\n",
              "      <td>4</td>\n",
              "      <td>0.87790</td>\n",
              "      <td>0.96912</td>\n",
              "      <td>08:22</td>\n",
              "    </tr>\n",
              "  </tbody>\n",
              "</table><p>\n",
              "\n",
              "    <div>\n",
              "      <progress value='108' class='' max='124' style='width:300px; height:20px; vertical-align: middle;'></progress>\n",
              "      87.10% [108/124 07:19&lt;01:05 0.66443]\n",
              "    </div>\n",
              "    "
            ],
            "text/plain": [
              "<IPython.core.display.HTML object>"
            ]
          },
          "metadata": {},
          "output_type": "display_data"
        },
        {
          "output_type": "display_data",
          "data": {
            "text/plain": [
              "<IPython.core.display.HTML object>"
            ],
            "text/html": [
              "<table border=\"1\" class=\"dataframe\">\n",
              "  <thead>\n",
              "    <tr style=\"text-align: left;\">\n",
              "      <th>Epoch</th>\n",
              "      <th>Train Loss</th>\n",
              "      <th>Valid  Loss</th>\n",
              "      <th>Time</th>\n",
              "    </tr>\n",
              "  </thead>\n",
              "  <tbody>\n",
              "    <tr>\n",
              "      <td>0</td>\n",
              "      <td>1.07520</td>\n",
              "      <td>1.15239</td>\n",
              "      <td>08:26</td>\n",
              "    </tr>\n",
              "    <tr>\n",
              "      <td>1</td>\n",
              "      <td>0.96153</td>\n",
              "      <td>1.05773</td>\n",
              "      <td>08:37</td>\n",
              "    </tr>\n",
              "    <tr>\n",
              "      <td>2</td>\n",
              "      <td>0.89542</td>\n",
              "      <td>0.99488</td>\n",
              "      <td>08:29</td>\n",
              "    </tr>\n",
              "    <tr>\n",
              "      <td>3</td>\n",
              "      <td>0.94106</td>\n",
              "      <td>0.97894</td>\n",
              "      <td>08:15</td>\n",
              "    </tr>\n",
              "    <tr>\n",
              "      <td>4</td>\n",
              "      <td>0.87790</td>\n",
              "      <td>0.96912</td>\n",
              "      <td>08:22</td>\n",
              "    </tr>\n",
              "    <tr>\n",
              "      <td>5</td>\n",
              "      <td>0.83982</td>\n",
              "      <td>0.96411</td>\n",
              "      <td>08:33</td>\n",
              "    </tr>\n",
              "    <tr>\n",
              "      <td>6</td>\n",
              "      <td>0.86183</td>\n",
              "      <td>0.96230</td>\n",
              "      <td>08:27</td>\n",
              "    </tr>\n",
              "    <tr>\n",
              "      <td>7</td>\n",
              "      <td>0.87804</td>\n",
              "      <td>0.96200</td>\n",
              "      <td>08:22</td>\n",
              "    </tr>\n",
              "  </tbody>\n",
              "</table>"
            ]
          },
          "metadata": {}
        }
      ],
      "source": [
        "agent.update_dataset_from_inputs(df[df.label==1].sequence.values)\n",
        "agent.train_supervised(32, 8, 5e-5)\n",
        "agent.base_to_model()"
      ]
    },
    {
      "cell_type": "markdown",
      "metadata": {
        "id": "zcTS2RLXY93E"
      },
      "source": [
        "Optional: save fine-tuned weights"
      ]
    },
    {
      "cell_type": "code",
      "execution_count": null,
      "metadata": {
        "id": "JzVSMYQEY93E"
      },
      "outputs": [],
      "source": [
        "# agent.save_weights('untracked_files/finetuned_model.pt')"
      ]
    },
    {
      "cell_type": "code",
      "execution_count": null,
      "metadata": {
        "id": "W5gzjx9tY93E"
      },
      "outputs": [],
      "source": [
        "# agent.load_weights('untracked_files/finetuned_model.pt')"
      ]
    },
    {
      "cell_type": "markdown",
      "metadata": {
        "id": "7v6_vaJWY93E"
      },
      "source": [
        "# Reinforcement Learning\n",
        "\n",
        "Now we enter the reinforcement learning stage"
      ]
    },
    {
      "cell_type": "markdown",
      "metadata": {
        "id": "D_fOgxqoY93F"
      },
      "source": [
        "### Loss\n",
        "\n",
        "We use `PPO` as our policy gradient loss"
      ]
    },
    {
      "cell_type": "code",
      "execution_count": null,
      "metadata": {
        "id": "aH4Q8ZbcY93F"
      },
      "outputs": [],
      "source": [
        "pg = PPO(0.99,\n",
        "        0.5,\n",
        "        lam=0.95,\n",
        "        v_coef=0.5,\n",
        "        cliprange=0.3,\n",
        "        v_cliprange=0.3,\n",
        "        ent_coef=0.01,\n",
        "        kl_target=0.03,\n",
        "        kl_horizon=3000,\n",
        "        scale_rewards=True)\n",
        "\n",
        "loss = PolicyLoss(pg, 'PPO',\n",
        "                   value_head=ValueHead(256),\n",
        "                   v_update_iter=2,\n",
        "                   vopt_kwargs={'lr':1e-3})"
      ]
    },
    {
      "cell_type": "markdown",
      "metadata": {
        "id": "2-b2hCKgY93M"
      },
      "source": [
        "### Reward\n",
        "\n",
        "Here we pass the reward agent we trained earlier to a callback.\n",
        "\n",
        "Since our model is a classification model, we have a decision with respect to what value we output from our score function. We could output the raw logit value from the model, or the sigmoid-scaled classification prediction.\n",
        "\n",
        "If we use the sigmoid-scaled output, we tend to get lots of samples with scores in the `0.999` range that only differ by a very small amount. This can make it difficult to differentiate the true winners.\n",
        "\n",
        "If we use the logit output, we can get much better differentiation of samples at the top end. However, we have a much higher chance of finding weird samples that get absurd logit values.\n",
        "\n",
        "The code below uses the raw logit value, clipped to a range of `[-10, 10]`"
      ]
    },
    {
      "cell_type": "code",
      "execution_count": null,
      "metadata": {
        "id": "HAkpZZFtY93N"
      },
      "outputs": [],
      "source": [
        "d_vocab = len(aa_vocab.itos)\n",
        "d_embedding = 256\n",
        "d_latent = 512\n",
        "filters = [256, 512, 1024]\n",
        "kernel_sizes = [7, 7, 7]\n",
        "strides = [2,2,2]\n",
        "dropouts = [0.2, 0.2, 0.2]\n",
        "mlp_dims = [512, 256, 128]\n",
        "mlp_drops = [0.2, 0.2, 0.2]\n",
        "d_out = 1\n",
        "\n",
        "\n",
        "reward_model = Predictive_CNN(\n",
        "                    d_vocab,\n",
        "                    d_embedding,\n",
        "                    d_latent,\n",
        "                    filters,\n",
        "                    kernel_sizes,\n",
        "                    strides,\n",
        "                    dropouts,\n",
        "                    mlp_dims,\n",
        "                    mlp_drops,\n",
        "                    d_out\n",
        "                )\n",
        "\n",
        "\n",
        "r_ds = Text_Prediction_Dataset(['M'], [0.], aa_vocab)\n",
        "\n",
        "r_agent = PredictiveAgent(reward_model, BinaryCrossEntropy(), r_ds, opt_kwargs={'lr':1e-3})\n",
        "\n",
        "r_agent.load_weights('untracked_files/amp_predictor.pt')\n",
        "# r_agent.load_state_dict(model_from_url('amp_predictor.pt')) # optional - load exact weights\n",
        "\n",
        "reward_model.eval();\n",
        "\n",
        "freeze(reward_model)\n",
        "\n",
        "class ClippedModelReward():\n",
        "    def __init__(self, agent, minclip, maxclip):\n",
        "        self.agent = agent\n",
        "        self.minclip = minclip\n",
        "        self.maxclip = maxclip\n",
        "\n",
        "    def __call__(self, sequences):\n",
        "        preds = self.agent.predict_data(sequences)\n",
        "        preds = torch.clamp(preds, self.minclip, self.maxclip)\n",
        "        return preds\n",
        "\n",
        "reward_function = Reward(ClippedModelReward(r_agent, -10, 10), weight=1)\n",
        "\n",
        "amp_reward = RewardCallback(reward_function, 'amp')"
      ]
    },
    {
      "cell_type": "markdown",
      "metadata": {
        "id": "I2Ya4AWtY93N"
      },
      "source": [
        "### Optional Reward: Stability Metric\n",
        "\n",
        "There has been a lot of great work recently looking at large scale transformer language models for unsupervised learning of protein structures. One interesting thing that has emerged is a rough relationship between the protein sequence log probability given by a generative model and the stability of the protein sequence.\n",
        "\n",
        "We can use the log probability values from a pretrained protein transformer model as a proxy for stability. Including this as a reward function can help keep the generated peptides realistic.\n",
        "\n",
        "To include this as a reward term, run the code below to install the [ESM](https://github.com/facebookresearch/esm) library to access a pretrained protein transformer model.\n",
        "\n",
        "In the interest of time, we will use the smallest ESM model with 43M parameters, rather than the large scale 630M parameter model. Note that even with the smaller model, this reward term adds significanly to the training runtime"
      ]
    },
    {
      "cell_type": "code",
      "execution_count": null,
      "metadata": {
        "id": "Xw17H807Y93O"
      },
      "outputs": [],
      "source": [
        "# Optional: insall ESM\n",
        "# ! pip install fair-esm"
      ]
    },
    {
      "cell_type": "code",
      "execution_count": null,
      "metadata": {
        "id": "o-OGxdGzY93O"
      },
      "outputs": [],
      "source": [
        "import esm"
      ]
    },
    {
      "cell_type": "code",
      "execution_count": null,
      "metadata": {
        "id": "AHpGtUDDY93O"
      },
      "outputs": [],
      "source": [
        "protein_model, alphabet = esm.pretrained.esm1_t6_43M_UR50S()\n",
        "batch_converter = alphabet.get_batch_converter()"
      ]
    },
    {
      "cell_type": "code",
      "execution_count": null,
      "metadata": {
        "id": "sux9Y1XAY93O"
      },
      "outputs": [],
      "source": [
        "class PeptideStability():\n",
        "    def __init__(self, model, alphabet, batch_converter):\n",
        "        self.model = model\n",
        "        to_device(self.model)\n",
        "        self.alphabet = alphabet\n",
        "        self.batch_converter = batch_converter\n",
        "\n",
        "    def __call__(self, samples):\n",
        "\n",
        "        data = [\n",
        "            (f'protein{i}', samples[i]) for i in range(len(samples))\n",
        "        ]\n",
        "\n",
        "        batch_labels, batch_strs, batch_tokens = self.batch_converter(data)\n",
        "\n",
        "        with torch.no_grad():\n",
        "            results = self.model(to_device(batch_tokens))\n",
        "\n",
        "        lps = F.log_softmax(results['logits'], -1)\n",
        "\n",
        "        mean_lps = lps.gather(2, to_device(batch_tokens).unsqueeze(-1)).squeeze(-1).mean(-1)\n",
        "\n",
        "        return mean_lps"
      ]
    },
    {
      "cell_type": "code",
      "execution_count": null,
      "metadata": {
        "id": "BgtbSBjlY93P"
      },
      "outputs": [],
      "source": [
        "ps = PeptideStability(protein_model, alphabet, batch_converter)"
      ]
    },
    {
      "cell_type": "code",
      "execution_count": null,
      "metadata": {
        "id": "IOpLqzwMY93P"
      },
      "outputs": [],
      "source": [
        "stability_reward = Reward(ps, weight=0.1, bs=300)\n",
        "stability_cb = RewardCallback(stability_reward, name='stability')"
      ]
    },
    {
      "cell_type": "code",
      "execution_count": null,
      "metadata": {
        "id": "Yij5PHXlY93P",
        "outputId": "f721863c-71ee-4d36-956a-3b7c5f107b74"
      },
      "outputs": [
        {
          "data": {
            "text/plain": [
              "tensor([-2.8469, -3.1892, -3.2956, -1.7978, -0.1794, -4.1585, -3.9322, -3.8093,\n",
              "        -2.4914, -3.7035], device='cuda:0')"
            ]
          },
          "execution_count": null,
          "metadata": {},
          "output_type": "execute_result"
        }
      ],
      "source": [
        "stability_reward(df.sequence.values[:10])"
      ]
    },
    {
      "cell_type": "markdown",
      "metadata": {
        "id": "lwuzXkShY93P"
      },
      "source": [
        "### Samplers\n",
        "\n",
        "We create the following samplers:\n",
        "- `sampler1 ModelSampler`: this samples from the main model. This sample will add 1000 compounds to the buffer each buffer build, and sample 40% of each batch on the fly from the main model.\n",
        "- `sampler2 ModelSampler`: this samples from the baseline model and is not sampled live on each batch\n",
        "- `sampler3 LogSampler`: this samples high scoring samples from the lig\n",
        "- `sampler4 TokenSwapSampler`: this uses token swap comibichem to generate new samples from high scoring samples\n",
        "- `sampler5 DatasetSampler`: this sprinkles in a small amount of known actives into each buffer build. Note that we subset by peptide length to align with the generated length (75 amino acids)"
      ]
    },
    {
      "cell_type": "code",
      "execution_count": null,
      "metadata": {
        "id": "2MTh1ax1Y93Q"
      },
      "outputs": [],
      "source": [
        "gen_bs = 1500\n",
        "\n",
        "sampler1 = ModelSampler(agent.vocab, agent.model, 'live', 1000, 0., gen_bs)\n",
        "sampler2 = ModelSampler(agent.vocab, agent.base_model, 'base', 1000, 0., gen_bs)\n",
        "sampler3 = LogSampler('samples', 'rewards', 10, 98, 200)\n",
        "sampler4 = TokenSwapSampler('samples', 'rewards', 10, 98, 200, aa_vocab, 0.2)\n",
        "sampler5 = DatasetSampler(df[(df.label==1) & (df.sequence.map(lambda x: len(x)<=75))].sequence.values,\n",
        "                          'data', buffer_size=4)\n",
        "\n",
        "samplers = [sampler1, sampler2, sampler3, sampler4, sampler5]"
      ]
    },
    {
      "cell_type": "markdown",
      "metadata": {
        "id": "E_TAcFxCY93Q"
      },
      "source": [
        "### Callbacks\n",
        "\n",
        "Additional callbacks\n",
        "- `SupervisedCB`: runs supervised training on the top 3% of samples every 400 batches\n",
        "- `MaxCallback`: prints the max reward for each batch\n",
        "- `PercentileCallback`: prints the 90th percentile score each batch"
      ]
    },
    {
      "cell_type": "code",
      "execution_count": null,
      "metadata": {
        "id": "ju0miLscY93Q"
      },
      "outputs": [],
      "source": [
        "supervised_cb = SupervisedCB(agent, 20, 0.5, 98, 1e-4, 64)\n",
        "live_max = MaxCallback('rewards', 'live')\n",
        "live_p90 = PercentileCallback('rewards', 'live', 90)\n",
        "\n",
        "cbs = [supervised_cb, live_p90, live_max]"
      ]
    },
    {
      "cell_type": "markdown",
      "metadata": {
        "id": "-mRJ04vmY93R"
      },
      "source": [
        "## Environment and Train\n",
        "\n",
        "Now we can put together our Environment and run the training process"
      ]
    },
    {
      "cell_type": "code",
      "execution_count": null,
      "metadata": {
        "id": "qN18tHiqY93S"
      },
      "outputs": [],
      "source": [
        "env = Environment(agent, template_cb, samplers=samplers, rewards=[amp_reward, stability_cb], losses=[loss],\n",
        "                 cbs=cbs)"
      ]
    },
    {
      "cell_type": "code",
      "execution_count": null,
      "metadata": {
        "id": "ziBIqbw6Y93S"
      },
      "outputs": [],
      "source": [
        "set_global_pool(min(12, os.cpu_count()))"
      ]
    },
    {
      "cell_type": "code",
      "execution_count": null,
      "metadata": {
        "id": "MyvAYvFsY93S",
        "outputId": "7b7ce633-0ef5-495d-d5ff-be2a6c3e805a"
      },
      "outputs": [
        {
          "data": {
            "text/html": [
              "<table border=\"1\" class=\"dataframe\">\n",
              "  <thead>\n",
              "    <tr style=\"text-align: left;\">\n",
              "      <th>iterations</th>\n",
              "      <th>rewards</th>\n",
              "      <th>rewards_final</th>\n",
              "      <th>new</th>\n",
              "      <th>diversity</th>\n",
              "      <th>bs</th>\n",
              "      <th>template</th>\n",
              "      <th>valid</th>\n",
              "      <th>amp</th>\n",
              "      <th>stability</th>\n",
              "      <th>PPO</th>\n",
              "      <th>rewards_live_p90</th>\n",
              "      <th>rewards_live_max</th>\n",
              "    </tr>\n",
              "  </thead>\n",
              "  <tbody>\n",
              "    <tr>\n",
              "      <td>0</td>\n",
              "      <td>-0.824</td>\n",
              "      <td>-0.824</td>\n",
              "      <td>1.000</td>\n",
              "      <td>1.000</td>\n",
              "      <td>128</td>\n",
              "      <td>0.000</td>\n",
              "      <td>1.000</td>\n",
              "      <td>2.367</td>\n",
              "      <td>-3.191</td>\n",
              "      <td>2.453</td>\n",
              "      <td>3.657</td>\n",
              "      <td>6.105</td>\n",
              "    </tr>\n",
              "    <tr>\n",
              "      <td>20</td>\n",
              "      <td>1.215</td>\n",
              "      <td>1.215</td>\n",
              "      <td>0.969</td>\n",
              "      <td>1.000</td>\n",
              "      <td>128</td>\n",
              "      <td>0.000</td>\n",
              "      <td>1.000</td>\n",
              "      <td>3.946</td>\n",
              "      <td>-2.731</td>\n",
              "      <td>4.314</td>\n",
              "      <td>7.218</td>\n",
              "      <td>9.701</td>\n",
              "    </tr>\n",
              "    <tr>\n",
              "      <td>40</td>\n",
              "      <td>3.259</td>\n",
              "      <td>3.259</td>\n",
              "      <td>0.922</td>\n",
              "      <td>1.000</td>\n",
              "      <td>128</td>\n",
              "      <td>0.000</td>\n",
              "      <td>1.000</td>\n",
              "      <td>5.021</td>\n",
              "      <td>-1.762</td>\n",
              "      <td>5.137</td>\n",
              "      <td>9.453</td>\n",
              "      <td>9.752</td>\n",
              "    </tr>\n",
              "    <tr>\n",
              "      <td>60</td>\n",
              "      <td>6.111</td>\n",
              "      <td>6.111</td>\n",
              "      <td>0.844</td>\n",
              "      <td>1.000</td>\n",
              "      <td>128</td>\n",
              "      <td>0.000</td>\n",
              "      <td>1.000</td>\n",
              "      <td>7.243</td>\n",
              "      <td>-1.131</td>\n",
              "      <td>6.201</td>\n",
              "      <td>9.640</td>\n",
              "      <td>9.676</td>\n",
              "    </tr>\n",
              "    <tr>\n",
              "      <td>80</td>\n",
              "      <td>6.526</td>\n",
              "      <td>6.526</td>\n",
              "      <td>0.852</td>\n",
              "      <td>1.000</td>\n",
              "      <td>128</td>\n",
              "      <td>0.000</td>\n",
              "      <td>1.000</td>\n",
              "      <td>7.476</td>\n",
              "      <td>-0.950</td>\n",
              "      <td>4.232</td>\n",
              "      <td>9.597</td>\n",
              "      <td>9.675</td>\n",
              "    </tr>\n",
              "    <tr>\n",
              "      <td>100</td>\n",
              "      <td>7.899</td>\n",
              "      <td>7.899</td>\n",
              "      <td>0.844</td>\n",
              "      <td>1.000</td>\n",
              "      <td>128</td>\n",
              "      <td>0.000</td>\n",
              "      <td>1.000</td>\n",
              "      <td>8.536</td>\n",
              "      <td>-0.637</td>\n",
              "      <td>2.952</td>\n",
              "      <td>9.732</td>\n",
              "      <td>9.747</td>\n",
              "    </tr>\n",
              "    <tr>\n",
              "      <td>120</td>\n",
              "      <td>8.080</td>\n",
              "      <td>8.080</td>\n",
              "      <td>0.875</td>\n",
              "      <td>1.000</td>\n",
              "      <td>128</td>\n",
              "      <td>0.000</td>\n",
              "      <td>1.000</td>\n",
              "      <td>8.717</td>\n",
              "      <td>-0.637</td>\n",
              "      <td>1.876</td>\n",
              "      <td>9.698</td>\n",
              "      <td>9.720</td>\n",
              "    </tr>\n",
              "    <tr>\n",
              "      <td>140</td>\n",
              "      <td>8.489</td>\n",
              "      <td>8.489</td>\n",
              "      <td>0.820</td>\n",
              "      <td>1.000</td>\n",
              "      <td>128</td>\n",
              "      <td>0.000</td>\n",
              "      <td>1.000</td>\n",
              "      <td>8.878</td>\n",
              "      <td>-0.390</td>\n",
              "      <td>0.945</td>\n",
              "      <td>9.742</td>\n",
              "      <td>9.762</td>\n",
              "    </tr>\n",
              "    <tr>\n",
              "      <td>160</td>\n",
              "      <td>8.553</td>\n",
              "      <td>8.553</td>\n",
              "      <td>0.828</td>\n",
              "      <td>1.000</td>\n",
              "      <td>128</td>\n",
              "      <td>0.000</td>\n",
              "      <td>1.000</td>\n",
              "      <td>9.049</td>\n",
              "      <td>-0.496</td>\n",
              "      <td>0.694</td>\n",
              "      <td>9.702</td>\n",
              "      <td>9.727</td>\n",
              "    </tr>\n",
              "    <tr>\n",
              "      <td>180</td>\n",
              "      <td>8.925</td>\n",
              "      <td>8.925</td>\n",
              "      <td>0.852</td>\n",
              "      <td>1.000</td>\n",
              "      <td>128</td>\n",
              "      <td>0.000</td>\n",
              "      <td>1.000</td>\n",
              "      <td>9.333</td>\n",
              "      <td>-0.408</td>\n",
              "      <td>0.427</td>\n",
              "      <td>9.755</td>\n",
              "      <td>9.766</td>\n",
              "    </tr>\n",
              "    <tr>\n",
              "      <td>200</td>\n",
              "      <td>9.152</td>\n",
              "      <td>9.152</td>\n",
              "      <td>0.797</td>\n",
              "      <td>1.000</td>\n",
              "      <td>128</td>\n",
              "      <td>0.000</td>\n",
              "      <td>1.000</td>\n",
              "      <td>9.461</td>\n",
              "      <td>-0.309</td>\n",
              "      <td>0.211</td>\n",
              "      <td>9.712</td>\n",
              "      <td>9.727</td>\n",
              "    </tr>\n",
              "    <tr>\n",
              "      <td>220</td>\n",
              "      <td>9.195</td>\n",
              "      <td>9.195</td>\n",
              "      <td>0.781</td>\n",
              "      <td>1.000</td>\n",
              "      <td>128</td>\n",
              "      <td>0.000</td>\n",
              "      <td>1.000</td>\n",
              "      <td>9.520</td>\n",
              "      <td>-0.324</td>\n",
              "      <td>0.310</td>\n",
              "      <td>9.760</td>\n",
              "      <td>9.776</td>\n",
              "    </tr>\n",
              "    <tr>\n",
              "      <td>240</td>\n",
              "      <td>9.096</td>\n",
              "      <td>9.096</td>\n",
              "      <td>0.797</td>\n",
              "      <td>1.000</td>\n",
              "      <td>128</td>\n",
              "      <td>0.000</td>\n",
              "      <td>1.000</td>\n",
              "      <td>9.503</td>\n",
              "      <td>-0.407</td>\n",
              "      <td>0.486</td>\n",
              "      <td>9.713</td>\n",
              "      <td>9.725</td>\n",
              "    </tr>\n",
              "    <tr>\n",
              "      <td>260</td>\n",
              "      <td>9.295</td>\n",
              "      <td>9.295</td>\n",
              "      <td>0.805</td>\n",
              "      <td>1.000</td>\n",
              "      <td>128</td>\n",
              "      <td>0.000</td>\n",
              "      <td>1.000</td>\n",
              "      <td>9.600</td>\n",
              "      <td>-0.305</td>\n",
              "      <td>0.262</td>\n",
              "      <td>9.765</td>\n",
              "      <td>9.779</td>\n",
              "    </tr>\n",
              "    <tr>\n",
              "      <td>280</td>\n",
              "      <td>9.299</td>\n",
              "      <td>9.299</td>\n",
              "      <td>0.859</td>\n",
              "      <td>1.000</td>\n",
              "      <td>128</td>\n",
              "      <td>0.000</td>\n",
              "      <td>1.000</td>\n",
              "      <td>9.623</td>\n",
              "      <td>-0.324</td>\n",
              "      <td>0.406</td>\n",
              "      <td>9.774</td>\n",
              "      <td>9.806</td>\n",
              "    </tr>\n",
              "  </tbody>\n",
              "</table>"
            ],
            "text/plain": [
              "<IPython.core.display.HTML object>"
            ]
          },
          "metadata": {},
          "output_type": "display_data"
        }
      ],
      "source": [
        "env.fit(128, 75, 300, 20)"
      ]
    },
    {
      "cell_type": "code",
      "execution_count": null,
      "metadata": {
        "id": "4RHT30tIY93T",
        "outputId": "e7286a23-cdc7-4497-8d1c-885058cef6be"
      },
      "outputs": [
        {
          "data": {
            "image/png": "[encoded data removed]",
            "text/plain": [
              "<Figure size 1152x864 with 12 Axes>"
            ]
          },
          "metadata": {
            "needs_background": "light"
          },
          "output_type": "display_data"
        }
      ],
      "source": [
        "env.log.plot_metrics()"
      ]
    },
    {
      "cell_type": "markdown",
      "metadata": {
        "id": "0Ym9AblbY93T"
      },
      "source": [
        "## Evaluation\n",
        "\n",
        "Looking at high scoring sequences, we see many sequences contain with a high concentration of `K` residues. These features likely come from a small number of dataset samples with high `K` contents. For example, `AATKPKKAGAEAAPKKPAKKQTKKKPAKKAGGKKKPKRAGAKKAKK` is a AMP sequence in the dataset.\n",
        "\n",
        "If these traits are undesirable, they can be controlled by updating the `Template` to limit other residues the same way we limited `A` residues."
      ]
    },
    {
      "cell_type": "code",
      "execution_count": null,
      "metadata": {
        "id": "BaGpcdbEY93U",
        "outputId": "131fdda1-64a6-41d6-ab31-1182834bc6e5"
      },
      "outputs": [
        {
          "data": {
            "text/html": [
              "<div>\n",
              "<style scoped>\n",
              "    .dataframe tbody tr th:only-of-type {\n",
              "        vertical-align: middle;\n",
              "    }\n",
              "\n",
              "    .dataframe tbody tr th {\n",
              "        vertical-align: top;\n",
              "    }\n",
              "\n",
              "    .dataframe thead th {\n",
              "        text-align: right;\n",
              "    }\n",
              "</style>\n",
              "<table border=\"1\" class=\"dataframe\">\n",
              "  <thead>\n",
              "    <tr style=\"text-align: right;\">\n",
              "      <th></th>\n",
              "      <th>samples</th>\n",
              "      <th>sources</th>\n",
              "      <th>rewards</th>\n",
              "      <th>rewards_final</th>\n",
              "      <th>template</th>\n",
              "      <th>amp</th>\n",
              "      <th>stability</th>\n",
              "      <th>PPO</th>\n",
              "    </tr>\n",
              "  </thead>\n",
              "  <tbody>\n",
              "    <tr>\n",
              "      <th>24119</th>\n",
              "      <td>GFLIGLAAEGIKKIGGKIGKIIGKIIKKVGKNIGDTVEKIGKNAGK...</td>\n",
              "      <td>base_buffer</td>\n",
              "      <td>9.800656</td>\n",
              "      <td>9.800656</td>\n",
              "      <td>0.0</td>\n",
              "      <td>10.0</td>\n",
              "      <td>-0.199344</td>\n",
              "      <td>-0.473588</td>\n",
              "    </tr>\n",
              "    <tr>\n",
              "      <th>24514</th>\n",
              "      <td>GIPGAIGKAIKGGLGKVLKGCGVKGAKIIGGGRKVGINGKVVKKVV...</td>\n",
              "      <td>base_buffer</td>\n",
              "      <td>9.800788</td>\n",
              "      <td>9.800788</td>\n",
              "      <td>0.0</td>\n",
              "      <td>10.0</td>\n",
              "      <td>-0.199212</td>\n",
              "      <td>-0.319604</td>\n",
              "    </tr>\n",
              "    <tr>\n",
              "      <th>29395</th>\n",
              "      <td>GLLGLFGKAIKDIGVKVIGKAIKNIGIKGIDKIMKGIIGKKKIPNV...</td>\n",
              "      <td>live_buffer</td>\n",
              "      <td>9.802987</td>\n",
              "      <td>9.802987</td>\n",
              "      <td>0.0</td>\n",
              "      <td>10.0</td>\n",
              "      <td>-0.197013</td>\n",
              "      <td>-0.461350</td>\n",
              "    </tr>\n",
              "    <tr>\n",
              "      <th>29602</th>\n",
              "      <td>GIFGGIAKGVKNAIKKLGKKIGGKIGKGIGKIIIGKATKGAHGKKV...</td>\n",
              "      <td>live_buffer</td>\n",
              "      <td>9.802441</td>\n",
              "      <td>9.802441</td>\n",
              "      <td>0.0</td>\n",
              "      <td>10.0</td>\n",
              "      <td>-0.197559</td>\n",
              "      <td>-0.438858</td>\n",
              "    </tr>\n",
              "    <tr>\n",
              "      <th>30374</th>\n",
              "      <td>GLIGALKKAAKKIGKKVGKKIGGKIVKGGMIKKGGKGIIGDKTIGG...</td>\n",
              "      <td>live_buffer</td>\n",
              "      <td>9.820191</td>\n",
              "      <td>9.820191</td>\n",
              "      <td>0.0</td>\n",
              "      <td>10.0</td>\n",
              "      <td>-0.179809</td>\n",
              "      <td>-0.489034</td>\n",
              "    </tr>\n",
              "    <tr>\n",
              "      <th>30917</th>\n",
              "      <td>GIAGAIGKAGIKAIKKGRKIVGKGIGKILIKKVGKGIGNKIKVINP...</td>\n",
              "      <td>live_buffer</td>\n",
              "      <td>9.805631</td>\n",
              "      <td>9.805631</td>\n",
              "      <td>0.0</td>\n",
              "      <td>10.0</td>\n",
              "      <td>-0.194369</td>\n",
              "      <td>-0.387992</td>\n",
              "    </tr>\n",
              "    <tr>\n",
              "      <th>31535</th>\n",
              "      <td>GILGKVGKKIGKGVTKIVGKIGKIKIGGKITNHVIGVIKKVGKSYI...</td>\n",
              "      <td>base_buffer</td>\n",
              "      <td>9.801026</td>\n",
              "      <td>9.801026</td>\n",
              "      <td>0.0</td>\n",
              "      <td>10.0</td>\n",
              "      <td>-0.198973</td>\n",
              "      <td>-0.457702</td>\n",
              "    </tr>\n",
              "    <tr>\n",
              "      <th>32550</th>\n",
              "      <td>GILGGIVKKLAGKIAKGIGKIVKGLGKKIGKGAGVTGKILGEKLGK...</td>\n",
              "      <td>base_buffer</td>\n",
              "      <td>9.804182</td>\n",
              "      <td>9.804182</td>\n",
              "      <td>0.0</td>\n",
              "      <td>10.0</td>\n",
              "      <td>-0.195818</td>\n",
              "      <td>-0.310737</td>\n",
              "    </tr>\n",
              "    <tr>\n",
              "      <th>32688</th>\n",
              "      <td>GVLAALGKAIGKAVKGAGVKAIKGLKVKTIGKIGTIIGKIAGKVIL...</td>\n",
              "      <td>live_buffer</td>\n",
              "      <td>9.810798</td>\n",
              "      <td>9.810798</td>\n",
              "      <td>0.0</td>\n",
              "      <td>10.0</td>\n",
              "      <td>-0.189203</td>\n",
              "      <td>-0.362843</td>\n",
              "    </tr>\n",
              "  </tbody>\n",
              "</table>\n",
              "</div>"
            ],
            "text/plain": [
              "                                                 samples      sources  \\\n",
              "24119  GFLIGLAAEGIKKIGGKIGKIIGKIIKKVGKNIGDTVEKIGKNAGK...  base_buffer   \n",
              "24514  GIPGAIGKAIKGGLGKVLKGCGVKGAKIIGGGRKVGINGKVVKKVV...  base_buffer   \n",
              "29395  GLLGLFGKAIKDIGVKVIGKAIKNIGIKGIDKIMKGIIGKKKIPNV...  live_buffer   \n",
              "29602  GIFGGIAKGVKNAIKKLGKKIGGKIGKGIGKIIIGKATKGAHGKKV...  live_buffer   \n",
              "30374  GLIGALKKAAKKIGKKVGKKIGGKIVKGGMIKKGGKGIIGDKTIGG...  live_buffer   \n",
              "30917  GIAGAIGKAGIKAIKKGRKIVGKGIGKILIKKVGKGIGNKIKVINP...  live_buffer   \n",
              "31535  GILGKVGKKIGKGVTKIVGKIGKIKIGGKITNHVIGVIKKVGKSYI...  base_buffer   \n",
              "32550  GILGGIVKKLAGKIAKGIGKIVKGLGKKIGKGAGVTGKILGEKLGK...  base_buffer   \n",
              "32688  GVLAALGKAIGKAVKGAGVKAIKGLKVKTIGKIGTIIGKIAGKVIL...  live_buffer   \n",
              "\n",
              "        rewards  rewards_final  template   amp  stability       PPO  \n",
              "24119  9.800656       9.800656       0.0  10.0  -0.199344 -0.473588  \n",
              "24514  9.800788       9.800788       0.0  10.0  -0.199212 -0.319604  \n",
              "29395  9.802987       9.802987       0.0  10.0  -0.197013 -0.461350  \n",
              "29602  9.802441       9.802441       0.0  10.0  -0.197559 -0.438858  \n",
              "30374  9.820191       9.820191       0.0  10.0  -0.179809 -0.489034  \n",
              "30917  9.805631       9.805631       0.0  10.0  -0.194369 -0.387992  \n",
              "31535  9.801026       9.801026       0.0  10.0  -0.198973 -0.457702  \n",
              "32550  9.804182       9.804182       0.0  10.0  -0.195818 -0.310737  \n",
              "32688  9.810798       9.810798       0.0  10.0  -0.189203 -0.362843  "
            ]
          },
          "execution_count": null,
          "metadata": {},
          "output_type": "execute_result"
        }
      ],
      "source": [
        "env.log.df[env.log.df.rewards>9.8]"
      ]
    },
    {
      "cell_type": "code",
      "execution_count": null,
      "metadata": {
        "id": "qOR5qlC8Y93U",
        "outputId": "b137323f-fd79-4610-d84c-525743bc5601"
      },
      "outputs": [
        {
          "data": {
            "image/png": "[encoded data removed]",
            "text/plain": [
              "<Figure size 864x576 with 4 Axes>"
            ]
          },
          "metadata": {
            "needs_background": "light"
          },
          "output_type": "display_data"
        }
      ],
      "source": [
        "aas = ['G', 'V', 'I', 'K']\n",
        "\n",
        "fig, axes = plt.subplots(2,2, figsize=(12,8))\n",
        "\n",
        "for i, ax in enumerate(axes.flat):\n",
        "    if i<len(aas):\n",
        "        env.log.df[env.log.df.rewards>9.].samples.map(\n",
        "            lambda x: x.count(aas[i])/len(x)).hist(density=True, alpha=0.5, label=f'Generated {aas[i]} Counts',\n",
        "                                                  ax=ax)\n",
        "        df[df.label==1].sequence.map(\n",
        "            lambda x: x.count(aas[i])/len(x)).hist(density=True, alpha=0.5, label=f'Dataset {aas[i]} Counts',\n",
        "                                                  ax=ax)\n",
        "        ax.legend()\n",
        "    else:\n",
        "        ax.axis('off')"
      ]
    },
    {
      "cell_type": "code",
      "execution_count": null,
      "metadata": {
        "id": "2BNWecMVY93V"
      },
      "outputs": [],
      "source": []
    }
  ],
  "metadata": {
    "kernelspec": {
      "display_name": "Python 3",
      "language": "python",
      "name": "python3"
    },
    "colab": {
      "provenance": []
    }
  },
  "nbformat": 4,
  "nbformat_minor": 0
}